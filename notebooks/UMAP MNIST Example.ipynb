{
 "cells": [
  {
   "cell_type": "code",
   "execution_count": null,
   "metadata": {},
   "outputs": [],
   "source": [
    "from paraview.simple import *\n",
    "import numpy as np\n",
    "import pandas as pd\n",
    "from sklearn.datasets import load_digits\n",
    "import matplotlib.pyplot as plt\n",
    "from mpl_toolkits.mplot3d import Axes3D\n",
    "import cuml\n",
    "from ipywidgets import fixed, interact, interactive, VBox, HBox\n",
    "from ipyparaview.widgets import PVDisplay\n",
    "from ipyparaview.widgets import PVRenderer\n",
    "import ipywidgets as widgets\n",
    "import PVGeo"
   ]
  },
  {
   "cell_type": "code",
   "execution_count": null,
   "metadata": {},
   "outputs": [],
   "source": [
    "X, Y = load_digits(return_X_y=True)"
   ]
  },
  {
   "cell_type": "code",
   "execution_count": null,
   "metadata": {},
   "outputs": [],
   "source": [
    "def plotDigit(linear_img, N=8, label=None):\n",
    "    img2d = linear_img.reshape((N,N))\n",
    "    plt.imshow(img2d, cmap='binary')\n",
    "    if label is not None:\n",
    "        plt.title(\"Digit: '{}'\".format(str(label)))\n",
    "    plt.show()\n",
    "    \n",
    "k=10\n",
    "plotDigit(X[k, :], label=Y[k])"
   ]
  },
  {
   "cell_type": "code",
   "execution_count": null,
   "metadata": {},
   "outputs": [],
   "source": [
    "%%time\n",
    "umap = cuml.manifold.UMAP(n_components=3)\n",
    "X3 = umap.fit_transform(X, Y)"
   ]
  },
  {
   "cell_type": "code",
   "execution_count": null,
   "metadata": {},
   "outputs": [],
   "source": [
    "Xdf = pd.DataFrame(X3, columns=[\"X\", \"Y\", \"Z\"])\n",
    "Xdf[\"color\"] = Y"
   ]
  },
  {
   "cell_type": "code",
   "execution_count": null,
   "metadata": {},
   "outputs": [],
   "source": [
    "renderView1 = CreateView('RenderView')\n",
    "renderView1.AxesGrid.Visibility = 1\n",
    "renderView1.AxesGrid.ShowGrid = 1\n",
    "renderView1.ViewSize = [640, 480]\n",
    "M3p = TrivialProducer()\n",
    "\n",
    "M3p.GetClientSideObject().SetOutput(PVGeo.interface.data_frame_to_table(Xdf))\n",
    "M3p.UpdatePipeline()\n",
    "tableToPoints1 = TableToPoints(Input=M3p)\n",
    "tableToPoints1.XColumn = 'X'\n",
    "tableToPoints1.YColumn = 'Y'\n",
    "tableToPoints1.ZColumn = 'Z'\n",
    "colorLUT = GetColorTransferFunction('color')\n",
    "colorLUT.ApplyPreset('jet', True)\n",
    "colorLUT.RescaleTransferFunction(0.0, 9.0)\n",
    "tableToPoints1Display = Show(tableToPoints1, renderView1)\n",
    "tableToPoints1Display.RenderPointsAsSpheres = 1\n",
    "tableToPoints1Display.Representation = 'Surface'\n",
    "tableToPoints1Display.ColorArrayName = ['POINTS', 'color']\n",
    "tableToPoints1Display.LookupTable = colorLUT\n",
    "tableToPoints1Display.RenderPointsAsSpheres = 1\n",
    "tableToPoints1Display.PointSize = 6.0\n",
    "\n",
    "def update_data(new_value):\n",
    "    data = new_value\n",
    "    M3p.GetClientSideObject().SetOutput(PVGeo.interface.data_frame_to_table(new_value))\n",
    "    M3p.UpdatePipeline()\n",
    "    tableToPoints1.Input = M3p\n"
   ]
  },
  {
   "cell_type": "code",
   "execution_count": null,
   "metadata": {},
   "outputs": [],
   "source": [
    "renderer = PVRenderer(renderView1)\n",
    "pv_widget = PVDisplay(renderer)"
   ]
  },
  {
   "cell_type": "code",
   "execution_count": null,
   "metadata": {},
   "outputs": [],
   "source": [
    "def rayTracing(use_rt):\n",
    "    if use_rt:\n",
    "        renderView1.EnableRayTracing = 1\n",
    "        renderView1.BackEnd = 'OptiX pathtracer'\n",
    "        renderView1.SamplesPerPixel = 7\n",
    "    else:\n",
    "        renderView1.EnableRayTracing = 0\n",
    "        \n",
    "def minDist(min_dist):\n",
    "    umap = cuml.manifold.UMAP(n_components=3, min_dist=min_dist)\n",
    "    X3 = umap.fit_transform(X, Y)\n",
    "    Xdf = pd.DataFrame(X3, columns=[\"X\", \"Y\", \"Z\"])\n",
    "    Xdf[\"color\"] = Y\n",
    "    update_data(Xdf)"
   ]
  },
  {
   "cell_type": "code",
   "execution_count": null,
   "metadata": {},
   "outputs": [],
   "source": [
    "VBox([pv_widget,\n",
    "      HBox([interactive(rayTracing, use_rt=widgets.Checkbox(value=False)),\n",
    "            interactive(minDist, min_dist=widgets.FloatSlider(value=0.1, min=0.01, max=2, \n",
    "                                                              continuous_update=False))])])\n",
    "      "
   ]
  },
  {
   "cell_type": "code",
   "execution_count": null,
   "metadata": {},
   "outputs": [],
   "source": []
  },
  {
   "cell_type": "code",
   "execution_count": null,
   "metadata": {},
   "outputs": [],
   "source": []
  }
 ],
 "metadata": {
  "kernelspec": {
   "display_name": "Python 3",
   "language": "python",
   "name": "python3"
  },
  "language_info": {
   "codemirror_mode": {
    "name": "ipython",
    "version": 3
   },
   "file_extension": ".py",
   "mimetype": "text/x-python",
   "name": "python",
   "nbconvert_exporter": "python",
   "pygments_lexer": "ipython3",
   "version": "3.7.6"
  }
 },
 "nbformat": 4,
 "nbformat_minor": 4
}
